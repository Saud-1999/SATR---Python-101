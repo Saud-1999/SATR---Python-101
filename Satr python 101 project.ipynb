{
 "cells": [
  {
   "cell_type": "code",
   "execution_count": 1,
   "id": "4eb0e873",
   "metadata": {},
   "outputs": [],
   "source": [
    "tst = {'1111111111':'Amal', '2222222222':'Mohammed','3333333333': 'Khadijah','4444444444':'Abdullah'}"
   ]
  },
  {
   "cell_type": "code",
   "execution_count": 2,
   "id": "37c30e64",
   "metadata": {},
   "outputs": [
    {
     "data": {
      "text/plain": [
       "{'1111111111': 'Amal',\n",
       " '2222222222': 'Mohammed',\n",
       " '3333333333': 'Khadijah',\n",
       " '4444444444': 'Abdullah'}"
      ]
     },
     "execution_count": 2,
     "metadata": {},
     "output_type": "execute_result"
    }
   ],
   "source": [
    "tst"
   ]
  },
  {
   "cell_type": "code",
   "execution_count": 3,
   "id": "b37572ab",
   "metadata": {},
   "outputs": [
    {
     "data": {
      "text/plain": [
       "'Amal'"
      ]
     },
     "execution_count": 3,
     "metadata": {},
     "output_type": "execute_result"
    }
   ],
   "source": [
    "tst['1111111111']"
   ]
  },
  {
   "cell_type": "code",
   "execution_count": 18,
   "id": "928a5bc2",
   "metadata": {},
   "outputs": [
    {
     "name": "stdout",
     "output_type": "stream",
     "text": [
      "22222222222\n"
     ]
    }
   ],
   "source": [
    "search= input()"
   ]
  },
  {
   "cell_type": "code",
   "execution_count": 19,
   "id": "92b4d385",
   "metadata": {
    "scrolled": true
   },
   "outputs": [
    {
     "name": "stdout",
     "output_type": "stream",
     "text": [
      "Sorry, the number is not found \n",
      "Sorry, the number is not found \n",
      "Sorry, the number is not found \n",
      "Sorry, the number is not found \n"
     ]
    }
   ],
   "source": [
    "for i in tst:\n",
    "    if search in tst:\n",
    "        print('This is invalid number')\n",
    "    else:\n",
    "        print('Sorry, the number is not found ')\n",
    "\n"
   ]
  },
  {
   "cell_type": "code",
   "execution_count": 8,
   "id": "209810ad",
   "metadata": {},
   "outputs": [
    {
     "data": {
      "text/plain": [
       "'Amal'"
      ]
     },
     "execution_count": 8,
     "metadata": {},
     "output_type": "execute_result"
    }
   ],
   "source": [
    "tst['1111111111']"
   ]
  }
 ],
 "metadata": {
  "kernelspec": {
   "display_name": "Python 3 (ipykernel)",
   "language": "python",
   "name": "python3"
  },
  "language_info": {
   "codemirror_mode": {
    "name": "ipython",
    "version": 3
   },
   "file_extension": ".py",
   "mimetype": "text/x-python",
   "name": "python",
   "nbconvert_exporter": "python",
   "pygments_lexer": "ipython3",
   "version": "3.9.12"
  }
 },
 "nbformat": 4,
 "nbformat_minor": 5
}
