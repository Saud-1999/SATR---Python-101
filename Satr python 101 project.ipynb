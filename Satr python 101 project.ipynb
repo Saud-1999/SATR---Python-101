{
 "cells": [
  {
   "cell_type": "markdown",
   "id": "722c35eb",
   "metadata": {},
   "source": [
    "# First Requiement"
   ]
  },
  {
   "cell_type": "code",
   "execution_count": 87,
   "id": "4eb0e873",
   "metadata": {},
   "outputs": [],
   "source": [
    "phone_book = {1111111111:'Amal', 2222222222:'Mohammed',3333333333: 'Khadijah',4444444444:'Abdullah',5555555555:'Rawan', 6666666666:'Faisal', 7777777777:'Layla'}"
   ]
  },
  {
   "cell_type": "code",
   "execution_count": 88,
   "id": "37c30e64",
   "metadata": {},
   "outputs": [
    {
     "data": {
      "text/plain": [
       "{1111111111: 'Amal',\n",
       " 2222222222: 'Mohammed',\n",
       " 3333333333: 'Khadijah',\n",
       " 4444444444: 'Abdullah',\n",
       " 5555555555: 'Rawan',\n",
       " 6666666666: 'Faisal',\n",
       " 7777777777: 'Layla'}"
      ]
     },
     "execution_count": 88,
     "metadata": {},
     "output_type": "execute_result"
    }
   ],
   "source": [
    "phone_book"
   ]
  },
  {
   "cell_type": "code",
   "execution_count": 92,
   "id": "b37572ab",
   "metadata": {},
   "outputs": [
    {
     "data": {
      "text/plain": [
       "'Amal'"
      ]
     },
     "execution_count": 92,
     "metadata": {},
     "output_type": "execute_result"
    }
   ],
   "source": [
    "phone_book[1111111111]"
   ]
  },
  {
   "cell_type": "code",
   "execution_count": 117,
   "id": "63abf6a5",
   "metadata": {},
   "outputs": [
    {
     "name": "stdout",
     "output_type": "stream",
     "text": [
      "4444444444\n"
     ]
    }
   ],
   "source": [
    "s= input()\n",
    "i=int(s)\n"
   ]
  },
  {
   "cell_type": "code",
   "execution_count": 107,
   "id": "31e83e40",
   "metadata": {},
   "outputs": [
    {
     "data": {
      "text/plain": [
       "True"
      ]
     },
     "execution_count": 107,
     "metadata": {},
     "output_type": "execute_result"
    }
   ],
   "source": [
    "i in phone_book"
   ]
  },
  {
   "cell_type": "code",
   "execution_count": 118,
   "id": "92b4d385",
   "metadata": {
    "scrolled": false
   },
   "outputs": [
    {
     "name": "stdout",
     "output_type": "stream",
     "text": [
      "Abdullah\n"
     ]
    }
   ],
   "source": [
    "for x in phone_book:\n",
    "    if len(str(i))!=10:\n",
    "        print('This is invalid number')\n",
    "        break\n",
    "    elif i in phone_book:\n",
    "        print(phone_book[i])\n",
    "        break\n",
    "    else:\n",
    "        print('Sorry, the number is not found ')\n",
    "        break\n",
    "\n"
   ]
  },
  {
   "cell_type": "markdown",
   "id": "5e0ef70b",
   "metadata": {},
   "source": [
    "# Add new phone"
   ]
  },
  {
   "cell_type": "code",
   "execution_count": 119,
   "id": "6dd30630",
   "metadata": {},
   "outputs": [
    {
     "name": "stdout",
     "output_type": "stream",
     "text": [
      "please enter the number :8888888888\n"
     ]
    }
   ],
   "source": [
    "new_index=input('please enter the number :')\n"
   ]
  },
  {
   "cell_type": "code",
   "execution_count": 120,
   "id": "cb944f8d",
   "metadata": {},
   "outputs": [
    {
     "name": "stdout",
     "output_type": "stream",
     "text": [
      "please enter the name :Saud\n"
     ]
    }
   ],
   "source": [
    "new_name=input('please enter the name :')"
   ]
  },
  {
   "cell_type": "code",
   "execution_count": 121,
   "id": "35034146",
   "metadata": {},
   "outputs": [],
   "source": [
    "phone_book[new_index]=new_name"
   ]
  },
  {
   "cell_type": "code",
   "execution_count": 122,
   "id": "374b498c",
   "metadata": {
    "scrolled": true
   },
   "outputs": [
    {
     "data": {
      "text/plain": [
       "{1111111111: 'Amal',\n",
       " 2222222222: 'Mohammed',\n",
       " 3333333333: 'Khadijah',\n",
       " 4444444444: 'Abdullah',\n",
       " 5555555555: 'Rawan',\n",
       " 6666666666: 'Faisal',\n",
       " 7777777777: 'Layla',\n",
       " '8888888888': 'Saud'}"
      ]
     },
     "execution_count": 122,
     "metadata": {},
     "output_type": "execute_result"
    }
   ],
   "source": [
    "phone_book"
   ]
  },
  {
   "cell_type": "markdown",
   "id": "81a714f6",
   "metadata": {},
   "source": [
    "# Search "
   ]
  },
  {
   "cell_type": "code",
   "execution_count": 157,
   "id": "1809a1de",
   "metadata": {},
   "outputs": [
    {
     "name": "stdout",
     "output_type": "stream",
     "text": [
      "Place enter the name that you want to search for:Saud\n"
     ]
    }
   ],
   "source": [
    "search=input('Place enter the name that you want to search for:')"
   ]
  },
  {
   "cell_type": "code",
   "execution_count": 160,
   "id": "88eea681",
   "metadata": {},
   "outputs": [
    {
     "data": {
      "text/plain": [
       "True"
      ]
     },
     "execution_count": 160,
     "metadata": {},
     "output_type": "execute_result"
    }
   ],
   "source": [
    "search in phone_book.values()"
   ]
  },
  {
   "cell_type": "code",
   "execution_count": 170,
   "id": "08e21369",
   "metadata": {},
   "outputs": [
    {
     "name": "stdout",
     "output_type": "stream",
     "text": [
      "Saud Number is 8888888888\n"
     ]
    }
   ],
   "source": [
    "for x in phone_book:\n",
    "    if search in phone_book.values():\n",
    "        print(search+' Number is '+ list(phone_book.keys())[list(phone_book.values()).index(search)])\n",
    "        break\n",
    "        \n",
    "    else:\n",
    "        print('----')\n",
    "        break"
   ]
  }
 ],
 "metadata": {
  "kernelspec": {
   "display_name": "Python 3 (ipykernel)",
   "language": "python",
   "name": "python3"
  },
  "language_info": {
   "codemirror_mode": {
    "name": "ipython",
    "version": 3
   },
   "file_extension": ".py",
   "mimetype": "text/x-python",
   "name": "python",
   "nbconvert_exporter": "python",
   "pygments_lexer": "ipython3",
   "version": "3.9.12"
  }
 },
 "nbformat": 4,
 "nbformat_minor": 5
}
