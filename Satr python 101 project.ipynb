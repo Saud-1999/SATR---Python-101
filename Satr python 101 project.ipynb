{
 "cells": [
  {
   "cell_type": "markdown",
   "id": "2880fa3a",
   "metadata": {},
   "source": [
    "# First Requiement"
   ]
  },
  {
   "cell_type": "code",
   "execution_count": 87,
   "id": "4eb0e873",
   "metadata": {},
   "outputs": [],
   "source": [
    "phone_book = {1111111111:'Amal', 2222222222:'Mohammed',3333333333: 'Khadijah',4444444444:'Abdullah',5555555555:'Rawan', 6666666666:'Faisal', 7777777777:'Layla'}"
   ]
  },
  {
   "cell_type": "code",
   "execution_count": 88,
   "id": "37c30e64",
   "metadata": {},
   "outputs": [
    {
     "data": {
      "text/plain": [
       "{1111111111: 'Amal',\n",
       " 2222222222: 'Mohammed',\n",
       " 3333333333: 'Khadijah',\n",
       " 4444444444: 'Abdullah',\n",
       " 5555555555: 'Rawan',\n",
       " 6666666666: 'Faisal',\n",
       " 7777777777: 'Layla'}"
      ]
     },
     "execution_count": 88,
     "metadata": {},
     "output_type": "execute_result"
    }
   ],
   "source": [
    "phone_book"
   ]
  },
  {
   "cell_type": "code",
   "execution_count": 117,
   "id": "9f532509",
   "metadata": {},
   "outputs": [
    {
     "name": "stdout",
     "output_type": "stream",
     "text": [
      "4444444444\n"
     ]
    }
   ],
   "source": [
    "s= input()\n",
    "i=int(s)\n"
   ]
  },
  {
   "cell_type": "code",
   "execution_count": 118,
   "id": "92b4d385",
   "metadata": {
    "scrolled": false
   },
   "outputs": [
    {
     "name": "stdout",
     "output_type": "stream",
     "text": [
      "Abdullah\n"
     ]
    }
   ],
   "source": [
    "for x in phone_book:\n",
    "    if len(str(i))!=10:\n",
    "        print('This is invalid number')\n",
    "        break\n",
    "    elif i in phone_book:\n",
    "        print(phone_book[i])\n",
    "        break\n",
    "    else:\n",
    "        print('Sorry, the number is not found ')\n",
    "        break\n",
    "\n"
   ]
  },
  {
   "cell_type": "markdown",
   "id": "ad92829a",
   "metadata": {},
   "source": [
    "# Add new phone"
   ]
  },
  {
   "cell_type": "code",
   "execution_count": 119,
   "id": "d32a63a2",
   "metadata": {},
   "outputs": [
    {
     "name": "stdout",
     "output_type": "stream",
     "text": [
      "please enter the number :8888888888\n"
     ]
    }
   ],
   "source": [
    "new_index=input('please enter the number :')\n"
   ]
  },
  {
   "cell_type": "code",
   "execution_count": 120,
   "id": "1cf85cd1",
   "metadata": {},
   "outputs": [
    {
     "name": "stdout",
     "output_type": "stream",
     "text": [
      "please enter the name :Saud\n"
     ]
    }
   ],
   "source": [
    "new_name=input('please enter the name :')"
   ]
  },
  {
   "cell_type": "code",
   "execution_count": 121,
   "id": "7ee6e6bb",
   "metadata": {},
   "outputs": [],
   "source": [
    "phone_book[new_index]=new_name"
   ]
  },
  {
   "cell_type": "code",
   "execution_count": 122,
   "id": "17d52a6c",
   "metadata": {
    "scrolled": true
   },
   "outputs": [
    {
     "data": {
      "text/plain": [
       "{1111111111: 'Amal',\n",
       " 2222222222: 'Mohammed',\n",
       " 3333333333: 'Khadijah',\n",
       " 4444444444: 'Abdullah',\n",
       " 5555555555: 'Rawan',\n",
       " 6666666666: 'Faisal',\n",
       " 7777777777: 'Layla',\n",
       " '8888888888': 'Saud'}"
      ]
     },
     "execution_count": 122,
     "metadata": {},
     "output_type": "execute_result"
    }
   ],
   "source": [
    "phone_book"
   ]
  },
  {
   "cell_type": "markdown",
   "id": "fa685d6d",
   "metadata": {},
   "source": [
    "# Search "
   ]
  },
  {
   "cell_type": "code",
   "execution_count": 157,
   "id": "0eeb83e0",
   "metadata": {},
   "outputs": [
    {
     "name": "stdout",
     "output_type": "stream",
     "text": [
      "Place enter the name that you want to search for:Saud\n"
     ]
    }
   ],
   "source": [
    "search=input('Place enter the name that you want to search for:')"
   ]
  },
  {
   "cell_type": "code",
   "execution_count": 170,
   "id": "4f29e174",
   "metadata": {},
   "outputs": [
    {
     "name": "stdout",
     "output_type": "stream",
     "text": [
      "Saud Number is 8888888888\n"
     ]
    }
   ],
   "source": [
    "for x in phone_book:\n",
    "    if search in phone_book.values():\n",
    "        print(search+' Number is '+ list(phone_book.keys())[list(phone_book.values()).index(search)])\n",
    "        break\n",
    "        \n",
    "    else:\n",
    "        print('----')\n",
    "        break"
   ]
  }
 ],
 "metadata": {
  "kernelspec": {
   "display_name": "Python 3 (ipykernel)",
   "language": "python",
   "name": "python3"
  },
  "language_info": {
   "codemirror_mode": {
    "name": "ipython",
    "version": 3
   },
   "file_extension": ".py",
   "mimetype": "text/x-python",
   "name": "python",
   "nbconvert_exporter": "python",
   "pygments_lexer": "ipython3",
   "version": "3.9.12"
  }
 },
 "nbformat": 4,
 "nbformat_minor": 5
}
